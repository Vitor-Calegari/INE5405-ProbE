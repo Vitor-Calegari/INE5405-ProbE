{
 "cells": [
  {
   "cell_type": "code",
   "execution_count": null,
   "metadata": {},
   "outputs": [],
   "source": []
  }
 ],
 "metadata": {
  "kernelspec": {
   "display_name": "Python 3.12.2 ('.venv': venv)",
   "language": "python",
   "name": "python3"
  },
  "language_info": {
   "name": "python",
   "version": "3.12.2"
  },
  "vscode": {
   "interpreter": {
    "hash": "84e8b0fe453b1a826c9290c73e7d1909c42a2fa25cff52bc415dc7ca36b60fc0"
   }
  }
 },
 "nbformat": 4,
 "nbformat_minor": 5
}
